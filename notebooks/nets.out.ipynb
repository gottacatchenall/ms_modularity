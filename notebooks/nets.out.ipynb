{
  "cells": [
    {
      "cell_type": "markdown",
      "metadata": {},
      "source": [
        "#"
      ],
      "id": "4b5e08cb-1cba-46c5-a8f1-dee4730b83d8"
    },
    {
      "cell_type": "code",
      "execution_count": 21,
      "metadata": {},
      "outputs": [],
      "source": [
        "import webweb\n",
        "import networkx as nx\n",
        "import numpy as np"
      ],
      "id": "cell-0"
    },
    {
      "cell_type": "code",
      "execution_count": 37,
      "metadata": {},
      "outputs": [],
      "source": [
        "def assoritative_blockmatrix(\n",
        "    nodes_per_group,\n",
        "    within_distribution = lambda : np.random.uniform(0.7, 0.8),\n",
        "    between_distribution = lambda : np.random.uniform(0, 0.05)\n",
        "):\n",
        "    num_groups = len(nodes_per_group)\n",
        "    blockmat = np.zeros((num_groups, num_groups))\n",
        "    for i in range(num_groups):\n",
        "        for j in range(num_groups):\n",
        "            if i == j:\n",
        "                blockmat[i,j] = within_distribution()\n",
        "            else: \n",
        "                blockmat[i,j] = between_distribution()\n",
        "            blockmat[j,i] = blockmat[i,j]\n",
        "    return blockmat"
      ],
      "id": "cell-1"
    },
    {
      "cell_type": "code",
      "execution_count": 72,
      "metadata": {},
      "outputs": [],
      "source": [
        "def disassoritative_blockmatrix(\n",
        "    nodes_per_group,\n",
        "    within_distribution = lambda : np.random.uniform(0, 0.05),\n",
        "    between_distribution = lambda : np.random.uniform(0.2, 0.3)\n",
        "):\n",
        "    num_groups = len(nodes_per_group)\n",
        "    blockmat = np.zeros((num_groups, num_groups))\n",
        "    for i in range(num_groups):\n",
        "        for j in range(num_groups):\n",
        "            if i == j:\n",
        "                blockmat[i,j] = within_distribution()\n",
        "            else: \n",
        "                blockmat[i,j] = between_distribution()\n",
        "            blockmat[j,i] = blockmat[i,j]\n",
        "    return blockmat"
      ],
      "id": "cell-2"
    },
    {
      "cell_type": "code",
      "execution_count": 91,
      "metadata": {},
      "outputs": [],
      "source": [
        "def coreperiphery_blockmatrix(\n",
        "    nodes_per_group,\n",
        "):\n",
        "    num_groups = len(nodes_per_group)\n",
        "    blockmat = np.array(\n",
        "        [[0.6, 0.4, 0.2, 0.1, 0.0],\n",
        "         [0.4, 0.4, 0.1, 0.05, 0.0],\n",
        "         [0.2, 0.1, 0.3, 0.1, 0.07],\n",
        "         [0.1, 0.05, 0.1, 0.07, 0.07],\n",
        "         [0.0, 0.0, 0.07, 0.07, 0.05 ]])\n",
        "    return blockmat\n"
      ],
      "id": "cell-3"
    },
    {
      "cell_type": "code",
      "execution_count": 83,
      "metadata": {},
      "outputs": [],
      "source": [
        "nodes_per_group = [10 for i in range(5)]\n",
        "\n",
        "group_per_node = [[i for _ in range(nodes_per_group[i])] for i in range(len(nodes_per_group))]\n",
        "group_per_node = [inner for outer in group_per_node for inner in outer]\n",
        "M = assoritative_blockmatrix(nodes_per_group)\n",
        "\n",
        "g = nx.stochastic_block_model(\n",
        "    nodes_per_group,\n",
        "    M\n",
        ")"
      ],
      "id": "cell-4"
    },
    {
      "cell_type": "code",
      "execution_count": 65,
      "metadata": {},
      "outputs": [],
      "source": [
        "displaydict = {}\n",
        "for (i, clust) in enumerate(group_per_node):\n",
        "    displaydict[str(i)] = {\"Cluster\" : str(clust)}    \n",
        "\n",
        "web = webweb.Web(\n",
        "    nx.adjacency_matrix(g).toarray(),\n",
        "    nodes = displaydict\n",
        ")\n",
        "web.display.colorBy = 'Cluster'\n",
        "web.show()"
      ],
      "id": "cell-6"
    },
    {
      "cell_type": "code",
      "execution_count": 75,
      "metadata": {},
      "outputs": [],
      "source": [
        "\n",
        "g = nx.stochastic_block_model(\n",
        "    nodes_per_group,\n",
        "    disassoritative_blockmatrix(nodes_per_group)\n",
        ")\n",
        "displaydict = {}\n",
        "for (i, clust) in enumerate(group_per_node):\n",
        "    displaydict[str(i)] = {\"Cluster\" : str(clust)}    \n",
        "\n",
        "web = webweb.Web(\n",
        "    nx.adjacency_matrix(g).toarray(),\n",
        "    nodes = displaydict\n",
        ")\n",
        "web.display.colorBy = 'Cluster'\n",
        "web.show()"
      ],
      "id": "cell-7"
    },
    {
      "cell_type": "code",
      "execution_count": 93,
      "metadata": {},
      "outputs": [],
      "source": [
        "\n",
        "g = nx.stochastic_block_model(\n",
        "    nodes_per_group,\n",
        "    coreperiphery_blockmatrix(nodes_per_group)\n",
        ")\n",
        "displaydict = {}\n",
        "for (i, clust) in enumerate(group_per_node):\n",
        "    displaydict[str(i)] = {\"Cluster\" : str(clust)}    \n",
        "\n",
        "web = webweb.Web(\n",
        "    nx.adjacency_matrix(g).toarray(),\n",
        "    nodes = displaydict\n",
        ")\n",
        "web.display.colorBy = 'Cluster'\n",
        "web.show()"
      ],
      "id": "cell-8"
    }
  ],
  "nbformat": 4,
  "nbformat_minor": 5,
  "metadata": {
    "kernelspec": {
      "name": "python3",
      "display_name": "webweb",
      "language": "python"
    },
    "language_info": {
      "name": "python",
      "codemirror_mode": {
        "name": "ipython",
        "version": "3"
      },
      "file_extension": ".py",
      "mimetype": "text/x-python",
      "nbconvert_exporter": "python",
      "pygments_lexer": "ipython3",
      "version": "3.11.0"
    },
    "orig_nbformat": "4"
  }
}